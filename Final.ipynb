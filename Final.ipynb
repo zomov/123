{
 "cells": [
  {
   "cell_type": "markdown",
   "metadata": {},
   "source": [
    "# DSA Bank Marketing Data Set"
   ]
  },
  {
   "cell_type": "markdown",
   "metadata": {},
   "source": [
    "## In this document, I cleaned, explored, and modeled Data, with following steps:\n",
    "### 1. Reading Dataset and changing subscription decision to a numeric variable (encoding the target variable)\n",
    "### 2. Exploring Data and removing outliers\n",
    "### 3. Balancing data (%50-%50) based on target variable (undersampling with MaxMinScaler)\n",
    "### 4. Changing categories to numeric columns (encoding categorical variables with getdummies function, removing one category from impacted columns)\n",
    "### 5. Splitting data to training and test sets and rescaling (originally nomeric) features (Normalization)\n",
    "### 6. Feature Selection (feature importance coefficient of logistic regression)\n",
    "### 7. Models (Logistic Regression, Random Forest)\n",
    "### 8. Conclusions"
   ]
  },
  {
   "cell_type": "code",
   "execution_count": 1,
   "metadata": {},
   "outputs": [],
   "source": [
    "import numpy as np\n",
    "import matplotlib.pyplot as plt\n",
    "import seaborn as sns\n",
    "import pandas as pd\n",
    "import sklearn\n",
    "import os "
   ]
  },
  {
   "cell_type": "markdown",
   "metadata": {},
   "source": [
    "### 1. Reading Dataset"
   ]
  },
  {
   "cell_type": "code",
   "execution_count": 4,
   "metadata": {},
   "outputs": [
    {
     "name": "stdout",
     "output_type": "stream",
     "text": [
      "Enter your Directory/Users/zohrehmovahedmanesh/Desktop/DSA\n",
      "/Users/zohrehmovahedmanesh/Desktop/DSA\n",
      "<class 'pandas.core.frame.DataFrame'>\n",
      "RangeIndex: 41188 entries, 0 to 41187\n",
      "Data columns (total 22 columns):\n",
      " #   Column           Non-Null Count  Dtype  \n",
      "---  ------           --------------  -----  \n",
      " 0   age              41188 non-null  int64  \n",
      " 1   job              41188 non-null  object \n",
      " 2   marital          41188 non-null  object \n",
      " 3   education        41188 non-null  object \n",
      " 4   default          41188 non-null  object \n",
      " 5   housing          41188 non-null  object \n",
      " 6   loan             41188 non-null  object \n",
      " 7   contact          41188 non-null  object \n",
      " 8   month            41188 non-null  object \n",
      " 9   day_of_week      41188 non-null  object \n",
      " 10  duration         41188 non-null  int64  \n",
      " 11  campaign         41188 non-null  int64  \n",
      " 12  pdays            41188 non-null  int64  \n",
      " 13  previous         41188 non-null  int64  \n",
      " 14  poutcome         41188 non-null  object \n",
      " 15  emp.var.rate     41188 non-null  float64\n",
      " 16  cons.price.idx   41188 non-null  float64\n",
      " 17  cons.conf.idx    41188 non-null  float64\n",
      " 18  euribor3m        41188 non-null  float64\n",
      " 19  nr.employed      41188 non-null  float64\n",
      " 20  ModelPrediction  41188 non-null  float64\n",
      " 21  y                41188 non-null  object \n",
      "dtypes: float64(6), int64(5), object(11)\n",
      "memory usage: 6.9+ MB\n"
     ]
    }
   ],
   "source": [
    "# ### DIRECTORY ####\n",
    "Directory = input(\"Enter your Directory\") #\"/Users/zohrehmovahedmanesh/Desktop/DSA\"\n",
    "print(Directory)\n",
    "os.chdir(Directory)\n",
    "\n",
    "df=pd.read_csv(\"DSA Data Set.csv\")\n",
    "df.info()"
   ]
  },
  {
   "cell_type": "markdown",
   "metadata": {},
   "source": [
    "##### 1. Dataset was reviewed in excel for missing values of any forms.  \n",
    "After review, there are some missing values in categorical data labeled as \"unknown\".\n",
    "##### 2. Definition of some attributes:\n",
    "* campaign: number of contacts performed during this campaign and for this client (numeric, includes last contact)\n",
    "* pdays: number of days that passed by after the client was last contacted from a previous campaign (numeric; 999 means client was not previously contacted)\n",
    "* previous:  number of contacts performed before this campaign and for this client (numeric)\n",
    "* **duration: last contact duration**, in seconds (numeric). Important note: this attribute highly affects the output target (e.g., if duration=0 then y='no'). Yet, the duration is not known before a call is performed. Also, after the end of the call y is obviously known. Thus, this input should only be included for benchmark purposes and should be discarded if the intention is to have a realistic predictive model.\n",
    "* contact: contact communication type (categorical: 'cellular','telephone')\n",
    "\n",
    "I am assuming contact type does not change within a campaign and is the type of contact in the current (last) campaign."
   ]
  },
  {
   "cell_type": "markdown",
   "metadata": {},
   "source": [
    "### Changing subscribtion decision to a numeric variable"
   ]
  },
  {
   "cell_type": "code",
   "execution_count": 5,
   "metadata": {
    "scrolled": true
   },
   "outputs": [],
   "source": [
    "df['y'] = df['y'].replace({\"no\":0, \"yes\":1})"
   ]
  },
  {
   "cell_type": "code",
   "execution_count": 6,
   "metadata": {},
   "outputs": [
    {
     "data": {
      "text/plain": [
       "0    36548\n",
       "1     4640\n",
       "Name: y, dtype: int64"
      ]
     },
     "execution_count": 6,
     "metadata": {},
     "output_type": "execute_result"
    }
   ],
   "source": [
    "df['y'].value_counts()"
   ]
  },
  {
   "cell_type": "code",
   "execution_count": 7,
   "metadata": {},
   "outputs": [
    {
     "name": "stdout",
     "output_type": "stream",
     "text": [
      "the imbalance ratio is %11.27\n"
     ]
    }
   ],
   "source": [
    "ir=round(100*df['y'].sum()/df.shape[0],2)\n",
    "print(\"the imbalance ratio is %{}\".format(ir))"
   ]
  },
  {
   "cell_type": "markdown",
   "metadata": {},
   "source": [
    "### 2. Exploring Data and removing outlier from each variable"
   ]
  },
  {
   "cell_type": "code",
   "execution_count": 8,
   "metadata": {},
   "outputs": [
    {
     "data": {
      "text/plain": [
       "<AxesSubplot:xlabel='age', ylabel='Count'>"
      ]
     },
     "execution_count": 8,
     "metadata": {},
     "output_type": "execute_result"
    },
    {
     "data": {
      "image/png": "[encoded data removed]",
      "text/plain": [
       "<Figure size 1080x288 with 1 Axes>"
      ]
     },
     "metadata": {
      "needs_background": "light"
     },
     "output_type": "display_data"
    }
   ],
   "source": [
    "plt.figure(figsize=(15,4))\n",
    "sns.histplot(data=df, x=\"age\", hue='y', multiple='stack')"
   ]
  },
  {
   "cell_type": "markdown",
   "metadata": {},
   "source": [
    "This graph shows:\n",
    "1. Most YES to subscriptions are for ages 28-38\n",
    "2. Most of the data is distributed between age 17 and 80. (Therefore, I am testing removing of age > 80, by compareing the imbalance ratios before and after outlier removal. If change in the ratio is less that %0.5, will implement the outlier removal.) \n"
   ]
  },
  {
   "cell_type": "code",
   "execution_count": 8,
   "metadata": {
    "scrolled": true
   },
   "outputs": [
    {
     "name": "stdout",
     "output_type": "stream",
     "text": [
      "the imbalance ratio change is %0.78\n"
     ]
    }
   ],
   "source": [
    "indices = df[df['age'] > 60].index\n",
    "ds = df.drop(indices)\n",
    "print(\"the imbalance ratio change is %{}\".format(round(ir-(100*ds['y'].sum()/ds.shape[0]),2)))"
   ]
  },
  {
   "cell_type": "markdown",
   "metadata": {},
   "source": [
    "which is greater than %.5"
   ]
  },
  {
   "cell_type": "code",
   "execution_count": 9,
   "metadata": {},
   "outputs": [
    {
     "name": "stdout",
     "output_type": "stream",
     "text": [
      "the imbalance ratio is %0.12\n"
     ]
    }
   ],
   "source": [
    "indices = df[df['age'] > 80].index\n",
    "ds = df.drop(indices)\n",
    "print(\"the imbalance ratio is %{}\".format(round(ir-(100*ds['y'].sum()/ds.shape[0]),2)))"
   ]
  },
  {
   "cell_type": "markdown",
   "metadata": {},
   "source": [
    "which is less than %.5. Therefore, removing age > 80, the outlier, will not impact the distribution of target variable."
   ]
  },
  {
   "cell_type": "code",
   "execution_count": 10,
   "metadata": {},
   "outputs": [
    {
     "data": {
      "text/plain": [
       "80"
      ]
     },
     "execution_count": 10,
     "metadata": {},
     "output_type": "execute_result"
    }
   ],
   "source": [
    "df=ds\n",
    "df['age'].max()"
   ]
  },
  {
   "cell_type": "code",
   "execution_count": 11,
   "metadata": {
    "scrolled": true
   },
   "outputs": [
    {
     "data": {
      "text/plain": [
       "17"
      ]
     },
     "execution_count": 11,
     "metadata": {},
     "output_type": "execute_result"
    }
   ],
   "source": [
    "df['age'].min()"
   ]
  },
  {
   "cell_type": "code",
   "execution_count": 19,
   "metadata": {},
   "outputs": [
    {
     "data": {
      "text/plain": [
       "<AxesSubplot:xlabel='age', ylabel='Percent of YES to subscription'>"
      ]
     },
     "execution_count": 19,
     "metadata": {},
     "output_type": "execute_result"
    },
    {
     "data": {
      "image/png": "[encoded data removed]",
      "text/plain": [
       "<Figure size 1080x288 with 1 Axes>"
      ]
     },
     "metadata": {
      "needs_background": "light"
     },
     "output_type": "display_data"
    }
   ],
   "source": [
    "df_age= pd.DataFrame([df['age'],df['y']]).T\n",
    "total_age=df_age.groupby(['age']).sum()\n",
    "count_age=df_age.groupby(['age']).count()\n",
    "count_age=count_age.rename(columns={'y':'count'})\n",
    "df_age=pd.concat([total_age,count_age], axis=1)\n",
    "df_age['age']=df_age.index\n",
    "df_age['Percent of YES to subscription']=100*df_age['y']/df_age['count']\n",
    "plt.figure(figsize=(15,4))\n",
    "sns.barplot(x='age', y=\"Percent of YES to subscription\", data=df_age)"
   ]
  },
  {
   "cell_type": "code",
   "execution_count": 20,
   "metadata": {},
   "outputs": [
    {
     "data": {
      "text/plain": [
       "<AxesSubplot:xlabel='education', ylabel='Percent of YES to subscription'>"
      ]
     },
     "execution_count": 20,
     "metadata": {},
     "output_type": "execute_result"
    },
    {
     "data": {
      "image/png": "[encoded data removed]",
      "text/plain": [
       "<Figure size 1080x288 with 1 Axes>"
      ]
     },
     "metadata": {
      "needs_background": "light"
     },
     "output_type": "display_data"
    }
   ],
   "source": [
    "df_education= pd.DataFrame([df['education'],df['y']]).T\n",
    "total_education=df_education.groupby(['education']).sum()\n",
    "count_education=df_education.groupby(['education']).count()\n",
    "count_education=count_education.rename(columns={'y':'count'})\n",
    "df_education=pd.concat([total_education,count_education], axis=1)\n",
    "df_education['education']=df_education.index\n",
    "df_education['Percent of YES to subscription']=100*df_education['y']/df_education['count']\n",
    "plt.figure(figsize=(15,4))\n",
    "sns.barplot(x='education', y=\"Percent of YES to subscription\", data=df_education)"
   ]
  },
  {
   "cell_type": "code",
   "execution_count": 21,
   "metadata": {
    "scrolled": true
   },
   "outputs": [
    {
     "data": {
      "text/plain": [
       "<AxesSubplot:xlabel='job', ylabel='Percent of YES to subscription'>"
      ]
     },
     "execution_count": 21,
     "metadata": {},
     "output_type": "execute_result"
    },
    {
     "data": {
      "image/png": "[encoded data removed]",
      "text/plain": [
       "<Figure size 1080x288 with 1 Axes>"
      ]
     },
     "metadata": {
      "needs_background": "light"
     },
     "output_type": "display_data"
    }
   ],
   "source": [
    "df_job= pd.DataFrame([df['job'],df['y']]).T\n",
    "total_job=df_job.groupby(['job']).sum()\n",
    "count_job=df_job.groupby(['job']).count()\n",
    "count_job=count_job.rename(columns={'y':'count'})\n",
    "df_job=pd.concat([total_job,count_job], axis=1)\n",
    "df_job['job']=df_job.index\n",
    "df_job['Percent of YES to subscription']=100*df_job['y']/df_job['count']\n",
    "plt.figure(figsize=(15,4))\n",
    "sns.barplot(x='job', y=\"Percent of YES to subscription\", data=df_job)"
   ]
  },
  {
   "cell_type": "code",
   "execution_count": 22,
   "metadata": {
    "scrolled": true
   },
   "outputs": [
    {
     "data": {
      "text/plain": [
       "<AxesSubplot:xlabel='marital', ylabel='Percent of YES to subscription'>"
      ]
     },
     "execution_count": 22,
     "metadata": {},
     "output_type": "execute_result"
    },
    {
     "data": {
      "image/png": "[encoded data removed]",
      "text/plain": [
       "<Figure size 1080x288 with 1 Axes>"
      ]
     },
     "metadata": {
      "needs_background": "light"
     },
     "output_type": "display_data"
    }
   ],
   "source": [
    "df_marital= pd.DataFrame([df['marital'],df['y']]).T\n",
    "total_marital=df_marital.groupby(['marital']).sum()\n",
    "count_marital=df_marital.groupby(['marital']).count()\n",
    "count_marital=count_marital.rename(columns={'y':'count'})\n",
    "df_marital=pd.concat([total_marital,count_marital], axis=1)\n",
    "df_marital['marital']=df_marital.index\n",
    "df_marital['Percent of YES to subscription']=100*df_marital['y']/df_marital['count']\n",
    "plt.figure(figsize=(15,4))\n",
    "sns.barplot(x='marital', y=\"Percent of YES to subscription\", data=df_marital)"
   ]
  },
  {
   "cell_type": "code",
   "execution_count": 23,
   "metadata": {},
   "outputs": [
    {
     "data": {
      "text/plain": [
       "<AxesSubplot:xlabel='default', ylabel='Percent of YES to subscription'>"
      ]
     },
     "execution_count": 23,
     "metadata": {},
     "output_type": "execute_result"
    },
    {
     "data": {
      "image/png": "[encoded data removed]",
      "text/plain": [
       "<Figure size 1080x288 with 1 Axes>"
      ]
     },
     "metadata": {
      "needs_background": "light"
     },
     "output_type": "display_data"
    }
   ],
   "source": [
    "df_default= pd.DataFrame([df['default'],df['y']]).T\n",
    "total_default=df_default.groupby(['default']).sum()\n",
    "count_default=df_default.groupby(['default']).count()\n",
    "count_default=count_default.rename(columns={'y':'count'})\n",
    "df_default=pd.concat([total_default,count_default], axis=1)\n",
    "df_default['default']=df_default.index\n",
    "df_default['Percent of YES to subscription']=100*df_default['y']/df_default['count']\n",
    "plt.figure(figsize=(15,4))\n",
    "sns.barplot(x='default', y=\"Percent of YES to subscription\", data=df_default)"
   ]
  },
  {
   "cell_type": "code",
   "execution_count": 24,
   "metadata": {},
   "outputs": [
    {
     "data": {
      "text/plain": [
       "<AxesSubplot:xlabel='housing', ylabel='Percent of YES to subscription'>"
      ]
     },
     "execution_count": 24,
     "metadata": {},
     "output_type": "execute_result"
    },
    {
     "data": {
      "image/png": "[encoded data removed]",
      "text/plain": [
       "<Figure size 1080x288 with 1 Axes>"
      ]
     },
     "metadata": {
      "needs_background": "light"
     },
     "output_type": "display_data"
    }
   ],
   "source": [
    "df_housing= pd.DataFrame([df['housing'],df['y']]).T\n",
    "total_housing=df_housing.groupby(['housing']).sum()\n",
    "count_housing=df_housing.groupby(['housing']).count()\n",
    "count_housing=count_housing.rename(columns={'y':'count'})\n",
    "df_housing=pd.concat([total_housing,count_housing], axis=1)\n",
    "df_housing['housing']=df_housing.index\n",
    "df_housing['Percent of YES to subscription']=100*df_housing['y']/df_housing['count']\n",
    "plt.figure(figsize=(15,4))\n",
    "sns.barplot(x='housing', y=\"Percent of YES to subscription\", data=df_housing)"
   ]
  },
  {
   "cell_type": "code",
   "execution_count": 25,
   "metadata": {},
   "outputs": [
    {
     "data": {
      "text/plain": [
       "<AxesSubplot:xlabel='loan', ylabel='Percent of YES to subscription'>"
      ]
     },
     "execution_count": 25,
     "metadata": {},
     "output_type": "execute_result"
    },
    {
     "data": {
      "image/png": "[encoded data removed]",
      "text/plain": [
       "<Figure size 1080x288 with 1 Axes>"
      ]
     },
     "metadata": {
      "needs_background": "light"
     },
     "output_type": "display_data"
    }
   ],
   "source": [
    "df_loan= pd.DataFrame([df['loan'],df['y']]).T\n",
    "total_loan=df_loan.groupby(['loan']).sum()\n",
    "count_loan=df_loan.groupby(['loan']).count()\n",
    "count_loan=count_loan.rename(columns={'y':'count'})\n",
    "df_loan=pd.concat([total_loan,count_loan], axis=1)\n",
    "df_loan['loan']=df_loan.index\n",
    "df_loan['Percent of YES to subscription']=100*df_loan['y']/df_loan['count']\n",
    "plt.figure(figsize=(15,4))\n",
    "sns.barplot(x='loan', y=\"Percent of YES to subscription\", data=df_loan)"
   ]
  },
  {
   "cell_type": "code",
   "execution_count": 26,
   "metadata": {},
   "outputs": [
    {
     "data": {
      "text/plain": [
       "<AxesSubplot:xlabel='month', ylabel='Percent of YES to subscription'>"
      ]
     },
     "execution_count": 26,
     "metadata": {},
     "output_type": "execute_result"
    },
    {
     "data": {
      "image/png": "[encoded data removed]",
      "text/plain": [
       "<Figure size 1080x288 with 1 Axes>"
      ]
     },
     "metadata": {
      "needs_background": "light"
     },
     "output_type": "display_data"
    }
   ],
   "source": [
    "df_month= pd.DataFrame([df['month'],df['y']]).T\n",
    "total_month=df_month.groupby(['month']).sum()\n",
    "count_month=df_month.groupby(['month']).count()\n",
    "count_month=count_month.rename(columns={'y':'count'})\n",
    "df_month=pd.concat([total_month,count_month], axis=1)\n",
    "df_month['month']=df_month.index\n",
    "df_month['Percent of YES to subscription']=100*df_month['y']/df_month['count']\n",
    "plt.figure(figsize=(15,4))\n",
    "sns.barplot(x='month', y=\"Percent of YES to subscription\", data=df_month)"
   ]
  },
  {
   "cell_type": "code",
   "execution_count": 27,
   "metadata": {
    "scrolled": true
   },
   "outputs": [
    {
     "data": {
      "text/plain": [
       "<AxesSubplot:xlabel='pdays', ylabel='Percent of YES to subscription'>"
      ]
     },
     "execution_count": 27,
     "metadata": {},
     "output_type": "execute_result"
    },
    {
     "data": {
      "image/png": "[encoded data removed]",
      "text/plain": [
       "<Figure size 1080x288 with 1 Axes>"
      ]
     },
     "metadata": {
      "needs_background": "light"
     },
     "output_type": "display_data"
    }
   ],
   "source": [
    "df_pdays= pd.DataFrame([df['pdays'],df['y']]).T\n",
    "total_pdays=df_pdays.groupby(['pdays']).sum()\n",
    "count_pdays=df_pdays.groupby(['pdays']).count()\n",
    "count_pdays=count_pdays.rename(columns={'y':'count'})\n",
    "df_pdays=pd.concat([total_pdays,count_pdays], axis=1)\n",
    "df_pdays['pdays']=df_pdays.index\n",
    "df_pdays['Percent of YES to subscription']=100*df_pdays['y']/df_pdays['count']\n",
    "plt.figure(figsize=(15,4))\n",
    "sns.barplot(x='pdays', y=\"Percent of YES to subscription\", data=df_pdays)"
   ]
  },
  {
   "cell_type": "code",
   "execution_count": 28,
   "metadata": {
    "scrolled": true
   },
   "outputs": [
    {
     "data": {
      "text/plain": [
       "<AxesSubplot:xlabel='poutcome', ylabel='Percent of YES to subscription'>"
      ]
     },
     "execution_count": 28,
     "metadata": {},
     "output_type": "execute_result"
    },
    {
     "data": {
      "image/png": "[encoded data removed]",
      "text/plain": [
       "<Figure size 1080x288 with 1 Axes>"
      ]
     },
     "metadata": {
      "needs_background": "light"
     },
     "output_type": "display_data"
    }
   ],
   "source": [
    "df_poutcome= pd.DataFrame([df['poutcome'],df['y']]).T\n",
    "total_poutcome=df_poutcome.groupby(['poutcome']).sum()\n",
    "count_poutcome=df_poutcome.groupby(['poutcome']).count()\n",
    "count_poutcome=count_poutcome.rename(columns={'y':'count'})\n",
    "df_poutcome=pd.concat([total_poutcome,count_poutcome], axis=1)\n",
    "df_poutcome['poutcome']=df_poutcome.index\n",
    "df_poutcome['Percent of YES to subscription']=100*df_poutcome['y']/df_poutcome['count']\n",
    "plt.figure(figsize=(15,4))\n",
    "sns.barplot(x='poutcome', y=\"Percent of YES to subscription\", data=df_poutcome)"
   ]
  },
  {
   "cell_type": "code",
   "execution_count": 29,
   "metadata": {
    "scrolled": true
   },
   "outputs": [
    {
     "data": {
      "text/plain": [
       "<AxesSubplot:xlabel='campaign', ylabel='Percent of YES to subscription'>"
      ]
     },
     "execution_count": 29,
     "metadata": {},
     "output_type": "execute_result"
    },
    {
     "data": {
      "image/png": "[encoded data removed]",
      "text/plain": [
       "<Figure size 1080x288 with 1 Axes>"
      ]
     },
     "metadata": {
      "needs_background": "light"
     },
     "output_type": "display_data"
    }
   ],
   "source": [
    "df_campaign= pd.DataFrame([df['campaign'],df['y']]).T\n",
    "total_campaign=df_campaign.groupby(['campaign']).sum()\n",
    "count_campaign=df_campaign.groupby(['campaign']).count()\n",
    "count_campaign=count_campaign.rename(columns={'y':'count'})\n",
    "df_campaign=pd.concat([total_campaign,count_campaign], axis=1)\n",
    "df_campaign['campaign']=df_campaign.index\n",
    "df_campaign['Percent of YES to subscription']=100*df_campaign['y']/df_campaign['count']\n",
    "plt.figure(figsize=(15,4))\n",
    "sns.barplot(x='campaign', y=\"Percent of YES to subscription\", data=df_campaign)\n"
   ]
  },
  {
   "cell_type": "markdown",
   "metadata": {},
   "source": [
    "Most Yes happens at the first call"
   ]
  },
  {
   "cell_type": "code",
   "execution_count": 31,
   "metadata": {
    "scrolled": true
   },
   "outputs": [
    {
     "data": {
      "text/plain": [
       "<AxesSubplot:xlabel='contact', ylabel='Percent of YES to subscription'>"
      ]
     },
     "execution_count": 31,
     "metadata": {},
     "output_type": "execute_result"
    },
    {
     "data": {
      "image/png": "[encoded data removed]",
      "text/plain": [
       "<Figure size 1080x288 with 1 Axes>"
      ]
     },
     "metadata": {
      "needs_background": "light"
     },
     "output_type": "display_data"
    }
   ],
   "source": [
    "df_contact= pd.DataFrame([df['contact'],df['y']]).T\n",
    "total_contact=df_contact.groupby(['contact']).sum()\n",
    "count_contact=df_contact.groupby(['contact']).count()\n",
    "count_contact=count_contact.rename(columns={'y':'count'})\n",
    "df_contact=pd.concat([total_contact,count_contact], axis=1)\n",
    "df_contact['contact']=df_contact.index\n",
    "df_contact['Percent of YES to subscription']=100*df_contact['y']/df_contact['count']\n",
    "plt.figure(figsize=(15,4))\n",
    "sns.barplot(x='contact', y=\"Percent of YES to subscription\", data=df_contact)"
   ]
  },
  {
   "cell_type": "code",
   "execution_count": 40,
   "metadata": {},
   "outputs": [
    {
     "data": {
      "text/plain": [
       "<AxesSubplot:xlabel='duration', ylabel='Percent of YES to subscription'>"
      ]
     },
     "execution_count": 40,
     "metadata": {},
     "output_type": "execute_result"
    },
    {
     "data": {
      "image/png": "[encoded data removed]",
      "text/plain": [
       "<Figure size 2520x288 with 1 Axes>"
      ]
     },
     "metadata": {
      "needs_background": "light"
     },
     "output_type": "display_data"
    }
   ],
   "source": [
    "df_duration= pd.DataFrame([df['duration'],df['y']]).T\n",
    "total_duration=df_duration.groupby(['duration']).sum()\n",
    "count_duration=df_duration.groupby(['duration']).count()\n",
    "count_duration=count_duration.rename(columns={'y':'count'})\n",
    "df_duration=pd.concat([total_duration,count_duration], axis=1)\n",
    "df_duration['duration']=df_duration.index\n",
    "df_duration['Percent of YES to subscription']=100*df_duration['y']/df_duration['count']\n",
    "plt.figure(figsize=(35,4))\n",
    "sns.barplot(x='duration', y=\"Percent of YES to subscription\", data=df_duration )\n"
   ]
  },
  {
   "cell_type": "code",
   "execution_count": 43,
   "metadata": {
    "scrolled": true
   },
   "outputs": [
    {
     "data": {
      "text/plain": [
       "<AxesSubplot:xlabel='duration', ylabel='campaign'>"
      ]
     },
     "execution_count": 43,
     "metadata": {},
     "output_type": "execute_result"
    },
    {
     "data": {
      "image/png": "[encoded data removed]",
      "text/plain": [
       "<Figure size 1080x288 with 1 Axes>"
      ]
     },
     "metadata": {
      "needs_background": "light"
     },
     "output_type": "display_data"
    }
   ],
   "source": [
    "df_sampeled= df.sample(1000)\n",
    "plt.figure(figsize=(15,4))\n",
    "sns.scatterplot(data=df_sampeled,x='duration', y='campaign', hue='y', alpha=.6 )\n"
   ]
  },
  {
   "cell_type": "code",
   "execution_count": 57,
   "metadata": {},
   "outputs": [
    {
     "data": {
      "text/plain": [
       "<AxesSubplot:xlabel='euribor3m', ylabel='emp.var.rate'>"
      ]
     },
     "execution_count": 57,
     "metadata": {},
     "output_type": "execute_result"
    },
    {
     "data": {
      "image/png": "[encoded data removed]",
      "text/plain": [
       "<Figure size 288x288 with 1 Axes>"
      ]
     },
     "metadata": {
      "needs_background": "light"
     },
     "output_type": "display_data"
    }
   ],
   "source": [
    "plt.figure(figsize=(4,4))\n",
    "sns.scatterplot(data=df_sampeled,x='euribor3m', y='emp.var.rate', hue='y', alpha=.3 )"
   ]
  },
  {
   "cell_type": "code",
   "execution_count": 56,
   "metadata": {},
   "outputs": [
    {
     "data": {
      "text/plain": [
       "<AxesSubplot:xlabel='nr.employed', ylabel='emp.var.rate'>"
      ]
     },
     "execution_count": 56,
     "metadata": {},
     "output_type": "execute_result"
    },
    {
     "data": {
      "image/png": "[encoded data removed]",
      "text/plain": [
       "<Figure size 288x288 with 1 Axes>"
      ]
     },
     "metadata": {
      "needs_background": "light"
     },
     "output_type": "display_data"
    }
   ],
   "source": [
    "plt.figure(figsize=(4,4))\n",
    "sns.scatterplot(data=df_sampeled,x='nr.employed', y='emp.var.rate', hue='y', alpha=.3 )"
   ]
  },
  {
   "cell_type": "code",
   "execution_count": 55,
   "metadata": {},
   "outputs": [
    {
     "data": {
      "text/plain": [
       "<AxesSubplot:xlabel='cons.price.idx', ylabel='emp.var.rate'>"
      ]
     },
     "execution_count": 55,
     "metadata": {},
     "output_type": "execute_result"
    },
    {
     "data": {
      "image/png": "[encoded data removed]",
      "text/plain": [
       "<Figure size 288x288 with 1 Axes>"
      ]
     },
     "metadata": {
      "needs_background": "light"
     },
     "output_type": "display_data"
    }
   ],
   "source": [
    "plt.figure(figsize=(4,4))\n",
    "sns.scatterplot(data=df_sampeled,x='cons.price.idx', y='emp.var.rate', hue='y', alpha=.3 )"
   ]
  },
  {
   "cell_type": "code",
   "execution_count": 54,
   "metadata": {
    "scrolled": true
   },
   "outputs": [
    {
     "data": {
      "text/plain": [
       "<AxesSubplot:xlabel='cons.price.idx', ylabel='cons.conf.idx'>"
      ]
     },
     "execution_count": 54,
     "metadata": {},
     "output_type": "execute_result"
    },
    {
     "data": {
      "image/png": "[encoded data removed]",
      "text/plain": [
       "<Figure size 288x288 with 1 Axes>"
      ]
     },
     "metadata": {
      "needs_background": "light"
     },
     "output_type": "display_data"
    }
   ],
   "source": [
    "plt.figure(figsize=(4,4))\n",
    "sns.scatterplot(data=df_sampeled,x='cons.price.idx', y='cons.conf.idx', hue='y', alpha=.3 )"
   ]
  },
  {
   "cell_type": "markdown",
   "metadata": {},
   "source": [
    "Although, social economic factors are related with each other but they dont show a pattern for target variable in graphs."
   ]
  },
  {
   "cell_type": "code",
   "execution_count": 108,
   "metadata": {},
   "outputs": [
    {
     "data": {
      "text/plain": [
       "<AxesSubplot:xlabel='month', ylabel='y'>"
      ]
     },
     "execution_count": 108,
     "metadata": {},
     "output_type": "execute_result"
    },
    {
     "data": {
      "image/png": "[encoded data removed]",
      "text/plain": [
       "<Figure size 1296x288 with 3 Axes>"
      ]
     },
     "metadata": {
      "needs_background": "light"
     },
     "output_type": "display_data"
    }
   ],
   "source": [
    "df_prediction=df[['ModelPrediction','y','month']]\n",
    "df_prediction=df_prediction.groupby(['month']).sum()\n",
    "df_prediction['month']=df_prediction.index\n",
    "\n",
    "\n",
    "fig, axs = plt.subplots(ncols=3, figsize=(18,4))\n",
    "sns.lineplot(x='month', y='ModelPrediction', data=df_prediction , color=\"red\" , ax=axs[0])\n",
    "sns.lineplot(x='month', y='ModelPrediction', data=df_prediction , color=\"red\" , ax=axs[1])\n",
    "sns.lineplot(x='month', y='y', data=df_prediction, ax=axs[1])\n",
    "sns.lineplot(x='month', y='y', data=df_prediction, ax=axs[2])\n"
   ]
  },
  {
   "cell_type": "markdown",
   "metadata": {},
   "source": [
    "The Model predicts more subscriber than actualized"
   ]
  },
  {
   "cell_type": "code",
   "execution_count": 12,
   "metadata": {
    "scrolled": true
   },
   "outputs": [
    {
     "data": {
      "text/plain": [
       "0    36488\n",
       "1     4581\n",
       "Name: y, dtype: int64"
      ]
     },
     "execution_count": 12,
     "metadata": {},
     "output_type": "execute_result"
    }
   ],
   "source": [
    "df['y'].value_counts()"
   ]
  },
  {
   "cell_type": "markdown",
   "metadata": {},
   "source": [
    "### 3. Balancing dataset based on target variable"
   ]
  },
  {
   "cell_type": "code",
   "execution_count": 14,
   "metadata": {
    "scrolled": true
   },
   "outputs": [
    {
     "name": "stdout",
     "output_type": "stream",
     "text": [
      "1    4581\n",
      "0    4581\n",
      "Name: y, dtype: int64\n"
     ]
    }
   ],
   "source": [
    "nonsub = df[df['y'] == 0]\n",
    "sub = df[df['y'] == 1]\n",
    "# Undersample the non-subscriber\n",
    "index = sub.index\n",
    "sub_count = len(index) \n",
    "\n",
    "nonsub_under = nonsub.sample(sub_count)\n",
    "\n",
    "df = pd.concat([nonsub_under.reset_index(drop = True),\n",
    "                             sub.reset_index(drop = True)], axis = 0)\n",
    "\n",
    "# Print the value counts for loan status\n",
    "print(df['y'].value_counts())\n"
   ]
  },
  {
   "cell_type": "code",
   "execution_count": 15,
   "metadata": {},
   "outputs": [
    {
     "name": "stdout",
     "output_type": "stream",
     "text": [
      "     duration\n",
      "y            \n",
      "0  219.986684\n",
      "1  555.776250\n"
     ]
    }
   ],
   "source": [
    "dfd = df[['duration', 'y']]\n",
    "print(dfd.groupby(by='y').mean())"
   ]
  },
  {
   "cell_type": "code",
   "execution_count": 16,
   "metadata": {},
   "outputs": [
    {
     "name": "stdout",
     "output_type": "stream",
     "text": [
      "   duration\n",
      "y          \n",
      "0       165\n",
      "1       452\n"
     ]
    }
   ],
   "source": [
    "print(dfd.groupby(by='y').median())"
   ]
  },
  {
   "cell_type": "markdown",
   "metadata": {},
   "source": [
    "### 4. Encoding categorical variables to numerical data"
   ]
  },
  {
   "cell_type": "code",
   "execution_count": 17,
   "metadata": {},
   "outputs": [],
   "source": [
    "df_enc=pd.get_dummies(df)"
   ]
  },
  {
   "cell_type": "code",
   "execution_count": 18,
   "metadata": {
    "scrolled": true
   },
   "outputs": [
    {
     "name": "stdout",
     "output_type": "stream",
     "text": [
      "<class 'pandas.core.frame.DataFrame'>\n",
      "Int64Index: 9162 entries, 0 to 4580\n",
      "Data columns (total 64 columns):\n",
      " #   Column                         Non-Null Count  Dtype  \n",
      "---  ------                         --------------  -----  \n",
      " 0   age                            9162 non-null   int64  \n",
      " 1   duration                       9162 non-null   int64  \n",
      " 2   campaign                       9162 non-null   int64  \n",
      " 3   pdays                          9162 non-null   int64  \n",
      " 4   previous                       9162 non-null   int64  \n",
      " 5   emp.var.rate                   9162 non-null   float64\n",
      " 6   cons.price.idx                 9162 non-null   float64\n",
      " 7   cons.conf.idx                  9162 non-null   float64\n",
      " 8   euribor3m                      9162 non-null   float64\n",
      " 9   nr.employed                    9162 non-null   float64\n",
      " 10  ModelPrediction                9162 non-null   float64\n",
      " 11  y                              9162 non-null   int64  \n",
      " 12  job_admin.                     9162 non-null   uint8  \n",
      " 13  job_blue-collar                9162 non-null   uint8  \n",
      " 14  job_entrepreneur               9162 non-null   uint8  \n",
      " 15  job_housemaid                  9162 non-null   uint8  \n",
      " 16  job_management                 9162 non-null   uint8  \n",
      " 17  job_retired                    9162 non-null   uint8  \n",
      " 18  job_self-employed              9162 non-null   uint8  \n",
      " 19  job_services                   9162 non-null   uint8  \n",
      " 20  job_student                    9162 non-null   uint8  \n",
      " 21  job_technician                 9162 non-null   uint8  \n",
      " 22  job_unemployed                 9162 non-null   uint8  \n",
      " 23  job_unknown                    9162 non-null   uint8  \n",
      " 24  marital_divorced               9162 non-null   uint8  \n",
      " 25  marital_married                9162 non-null   uint8  \n",
      " 26  marital_single                 9162 non-null   uint8  \n",
      " 27  marital_unknown                9162 non-null   uint8  \n",
      " 28  education_basic.4y             9162 non-null   uint8  \n",
      " 29  education_basic.6y             9162 non-null   uint8  \n",
      " 30  education_basic.9y             9162 non-null   uint8  \n",
      " 31  education_high.school          9162 non-null   uint8  \n",
      " 32  education_illiterate           9162 non-null   uint8  \n",
      " 33  education_professional.course  9162 non-null   uint8  \n",
      " 34  education_university.degree    9162 non-null   uint8  \n",
      " 35  education_unknown              9162 non-null   uint8  \n",
      " 36  default_no                     9162 non-null   uint8  \n",
      " 37  default_unknown                9162 non-null   uint8  \n",
      " 38  housing_no                     9162 non-null   uint8  \n",
      " 39  housing_unknown                9162 non-null   uint8  \n",
      " 40  housing_yes                    9162 non-null   uint8  \n",
      " 41  loan_no                        9162 non-null   uint8  \n",
      " 42  loan_unknown                   9162 non-null   uint8  \n",
      " 43  loan_yes                       9162 non-null   uint8  \n",
      " 44  contact_cellular               9162 non-null   uint8  \n",
      " 45  contact_telephone              9162 non-null   uint8  \n",
      " 46  month_apr                      9162 non-null   uint8  \n",
      " 47  month_aug                      9162 non-null   uint8  \n",
      " 48  month_dec                      9162 non-null   uint8  \n",
      " 49  month_jul                      9162 non-null   uint8  \n",
      " 50  month_jun                      9162 non-null   uint8  \n",
      " 51  month_mar                      9162 non-null   uint8  \n",
      " 52  month_may                      9162 non-null   uint8  \n",
      " 53  month_nov                      9162 non-null   uint8  \n",
      " 54  month_oct                      9162 non-null   uint8  \n",
      " 55  month_sep                      9162 non-null   uint8  \n",
      " 56  day_of_week_fri                9162 non-null   uint8  \n",
      " 57  day_of_week_mon                9162 non-null   uint8  \n",
      " 58  day_of_week_thu                9162 non-null   uint8  \n",
      " 59  day_of_week_tue                9162 non-null   uint8  \n",
      " 60  day_of_week_wed                9162 non-null   uint8  \n",
      " 61  poutcome_failure               9162 non-null   uint8  \n",
      " 62  poutcome_nonexistent           9162 non-null   uint8  \n",
      " 63  poutcome_success               9162 non-null   uint8  \n",
      "dtypes: float64(6), int64(6), uint8(52)\n",
      "memory usage: 1.4 MB\n"
     ]
    }
   ],
   "source": [
    "df_enc.info()"
   ]
  },
  {
   "cell_type": "markdown",
   "metadata": {},
   "source": [
    "### 6. Spliting data to training and test sets"
   ]
  },
  {
   "cell_type": "code",
   "execution_count": 19,
   "metadata": {},
   "outputs": [],
   "source": [
    "col=df_enc.columns\n",
    "Xcol=col.drop(['ModelPrediction', 'y'])\n",
    "X=df_enc[Xcol]"
   ]
  },
  {
   "cell_type": "code",
   "execution_count": 20,
   "metadata": {},
   "outputs": [
    {
     "name": "stdout",
     "output_type": "stream",
     "text": [
      "<class 'pandas.core.frame.DataFrame'>\n",
      "Int64Index: 9162 entries, 0 to 4580\n",
      "Data columns (total 1 columns):\n",
      " #   Column  Non-Null Count  Dtype\n",
      "---  ------  --------------  -----\n",
      " 0   y       9162 non-null   int64\n",
      "dtypes: int64(1)\n",
      "memory usage: 143.2 KB\n"
     ]
    }
   ],
   "source": [
    "y=pd.DataFrame(df_enc['y'])\n",
    "y.info()"
   ]
  },
  {
   "cell_type": "code",
   "execution_count": 21,
   "metadata": {},
   "outputs": [
    {
     "data": {
      "text/plain": [
       "(9162, 63)"
      ]
     },
     "execution_count": 21,
     "metadata": {},
     "output_type": "execute_result"
    }
   ],
   "source": [
    "data=pd.concat([X,y], axis=1)\n",
    "data.shape"
   ]
  },
  {
   "cell_type": "code",
   "execution_count": 22,
   "metadata": {},
   "outputs": [],
   "source": [
    "from sklearn.model_selection import train_test_split\n",
    "\n",
    "X_train, X_test, y_train, y_test = train_test_split(X , y, test_size=0.3)\n"
   ]
  },
  {
   "cell_type": "code",
   "execution_count": null,
   "metadata": {},
   "outputs": [],
   "source": [
    "# balance train dataset: validation and test sets must be same distribiution as origoinal "
   ]
  },
  {
   "cell_type": "code",
   "execution_count": null,
   "metadata": {},
   "outputs": [],
   "source": [
    "#data=pd.concat([X_train, y_train], axis=1)"
   ]
  },
  {
   "cell_type": "markdown",
   "metadata": {},
   "source": [
    "### 7. Rescaling Data (Normlization)"
   ]
  },
  {
   "cell_type": "code",
   "execution_count": 23,
   "metadata": {},
   "outputs": [],
   "source": [
    "from sklearn.preprocessing import MinMaxScaler\n",
    "\n",
    "# fit scaler on training data\n",
    "norm = MinMaxScaler().fit(X_train)\n",
    "\n",
    "# transform training data\n",
    "X_train_norm = norm.transform(X_train)\n",
    "\n",
    "# transform testing dataabs\n",
    "X_test_norm = norm.transform(X_test)"
   ]
  },
  {
   "cell_type": "code",
   "execution_count": 24,
   "metadata": {
    "scrolled": false
   },
   "outputs": [
    {
     "data": {
      "text/plain": [
       "array([[0.25396825, 0.00929457, 0.        , ..., 0.        , 1.        ,\n",
       "        0.        ],\n",
       "       [0.23809524, 0.04671115, 0.        , ..., 0.        , 1.        ,\n",
       "        0.        ],\n",
       "       [0.57142857, 0.05624404, 0.03846154, ..., 0.        , 1.        ,\n",
       "        0.        ],\n",
       "       ...,\n",
       "       [0.22222222, 0.0300286 , 0.19230769, ..., 0.        , 1.        ,\n",
       "        0.        ],\n",
       "       [0.15873016, 0.03145853, 0.        , ..., 0.        , 1.        ,\n",
       "        0.        ],\n",
       "       [0.36507937, 0.01406101, 0.        , ..., 0.        , 1.        ,\n",
       "        0.        ]])"
      ]
     },
     "execution_count": 24,
     "metadata": {},
     "output_type": "execute_result"
    }
   ],
   "source": [
    "X_train_norm"
   ]
  },
  {
   "cell_type": "code",
   "execution_count": 34,
   "metadata": {},
   "outputs": [
    {
     "data": {
      "text/html": [
       "<div>\n",
       "<style scoped>\n",
       "    .dataframe tbody tr th:only-of-type {\n",
       "        vertical-align: middle;\n",
       "    }\n",
       "\n",
       "    .dataframe tbody tr th {\n",
       "        vertical-align: top;\n",
       "    }\n",
       "\n",
       "    .dataframe thead th {\n",
       "        text-align: right;\n",
       "    }\n",
       "</style>\n",
       "<table border=\"1\" class=\"dataframe\">\n",
       "  <thead>\n",
       "    <tr style=\"text-align: right;\">\n",
       "      <th></th>\n",
       "      <th>age</th>\n",
       "      <th>duration</th>\n",
       "      <th>campaign</th>\n",
       "      <th>pdays</th>\n",
       "      <th>previous</th>\n",
       "      <th>emp.var.rate</th>\n",
       "      <th>cons.price.idx</th>\n",
       "      <th>cons.conf.idx</th>\n",
       "      <th>euribor3m</th>\n",
       "      <th>nr.employed</th>\n",
       "      <th>...</th>\n",
       "      <th>month_oct</th>\n",
       "      <th>month_sep</th>\n",
       "      <th>day_of_week_fri</th>\n",
       "      <th>day_of_week_mon</th>\n",
       "      <th>day_of_week_thu</th>\n",
       "      <th>day_of_week_tue</th>\n",
       "      <th>day_of_week_wed</th>\n",
       "      <th>poutcome_failure</th>\n",
       "      <th>poutcome_nonexistent</th>\n",
       "      <th>poutcome_success</th>\n",
       "    </tr>\n",
       "  </thead>\n",
       "  <tbody>\n",
       "    <tr>\n",
       "      <th>0</th>\n",
       "      <td>0.476190</td>\n",
       "      <td>0.111296</td>\n",
       "      <td>0.000000</td>\n",
       "      <td>0.004004</td>\n",
       "      <td>0.333333</td>\n",
       "      <td>0.354167</td>\n",
       "      <td>0.711613</td>\n",
       "      <td>0.523013</td>\n",
       "      <td>0.060304</td>\n",
       "      <td>0.105860</td>\n",
       "      <td>...</td>\n",
       "      <td>0.0</td>\n",
       "      <td>0.0</td>\n",
       "      <td>0.0</td>\n",
       "      <td>0.0</td>\n",
       "      <td>0.0</td>\n",
       "      <td>0.0</td>\n",
       "      <td>1.0</td>\n",
       "      <td>0.0</td>\n",
       "      <td>0.0</td>\n",
       "      <td>1.0</td>\n",
       "    </tr>\n",
       "    <tr>\n",
       "      <th>1</th>\n",
       "      <td>0.507937</td>\n",
       "      <td>0.057912</td>\n",
       "      <td>0.038462</td>\n",
       "      <td>1.000000</td>\n",
       "      <td>0.000000</td>\n",
       "      <td>0.937500</td>\n",
       "      <td>0.698753</td>\n",
       "      <td>0.602510</td>\n",
       "      <td>0.958059</td>\n",
       "      <td>0.859735</td>\n",
       "      <td>...</td>\n",
       "      <td>0.0</td>\n",
       "      <td>0.0</td>\n",
       "      <td>0.0</td>\n",
       "      <td>0.0</td>\n",
       "      <td>1.0</td>\n",
       "      <td>0.0</td>\n",
       "      <td>0.0</td>\n",
       "      <td>0.0</td>\n",
       "      <td>1.0</td>\n",
       "      <td>0.0</td>\n",
       "    </tr>\n",
       "    <tr>\n",
       "      <th>2</th>\n",
       "      <td>0.238095</td>\n",
       "      <td>0.074595</td>\n",
       "      <td>0.000000</td>\n",
       "      <td>1.000000</td>\n",
       "      <td>0.000000</td>\n",
       "      <td>1.000000</td>\n",
       "      <td>0.669135</td>\n",
       "      <td>0.338912</td>\n",
       "      <td>0.980050</td>\n",
       "      <td>1.000000</td>\n",
       "      <td>...</td>\n",
       "      <td>0.0</td>\n",
       "      <td>0.0</td>\n",
       "      <td>1.0</td>\n",
       "      <td>0.0</td>\n",
       "      <td>0.0</td>\n",
       "      <td>0.0</td>\n",
       "      <td>0.0</td>\n",
       "      <td>0.0</td>\n",
       "      <td>1.0</td>\n",
       "      <td>0.0</td>\n",
       "    </tr>\n",
       "    <tr>\n",
       "      <th>3</th>\n",
       "      <td>0.492063</td>\n",
       "      <td>0.022164</td>\n",
       "      <td>0.076923</td>\n",
       "      <td>1.000000</td>\n",
       "      <td>0.166667</td>\n",
       "      <td>0.687500</td>\n",
       "      <td>0.389322</td>\n",
       "      <td>0.368201</td>\n",
       "      <td>0.767853</td>\n",
       "      <td>0.877883</td>\n",
       "      <td>...</td>\n",
       "      <td>0.0</td>\n",
       "      <td>0.0</td>\n",
       "      <td>1.0</td>\n",
       "      <td>0.0</td>\n",
       "      <td>0.0</td>\n",
       "      <td>0.0</td>\n",
       "      <td>0.0</td>\n",
       "      <td>1.0</td>\n",
       "      <td>0.0</td>\n",
       "      <td>0.0</td>\n",
       "    </tr>\n",
       "    <tr>\n",
       "      <th>4</th>\n",
       "      <td>0.301587</td>\n",
       "      <td>0.045996</td>\n",
       "      <td>0.038462</td>\n",
       "      <td>1.000000</td>\n",
       "      <td>0.000000</td>\n",
       "      <td>0.333333</td>\n",
       "      <td>0.269680</td>\n",
       "      <td>0.192469</td>\n",
       "      <td>0.150759</td>\n",
       "      <td>0.512287</td>\n",
       "      <td>...</td>\n",
       "      <td>0.0</td>\n",
       "      <td>0.0</td>\n",
       "      <td>0.0</td>\n",
       "      <td>1.0</td>\n",
       "      <td>0.0</td>\n",
       "      <td>0.0</td>\n",
       "      <td>0.0</td>\n",
       "      <td>0.0</td>\n",
       "      <td>1.0</td>\n",
       "      <td>0.0</td>\n",
       "    </tr>\n",
       "    <tr>\n",
       "      <th>...</th>\n",
       "      <td>...</td>\n",
       "      <td>...</td>\n",
       "      <td>...</td>\n",
       "      <td>...</td>\n",
       "      <td>...</td>\n",
       "      <td>...</td>\n",
       "      <td>...</td>\n",
       "      <td>...</td>\n",
       "      <td>...</td>\n",
       "      <td>...</td>\n",
       "      <td>...</td>\n",
       "      <td>...</td>\n",
       "      <td>...</td>\n",
       "      <td>...</td>\n",
       "      <td>...</td>\n",
       "      <td>...</td>\n",
       "      <td>...</td>\n",
       "      <td>...</td>\n",
       "      <td>...</td>\n",
       "      <td>...</td>\n",
       "      <td>...</td>\n",
       "    </tr>\n",
       "    <tr>\n",
       "      <th>2744</th>\n",
       "      <td>0.523810</td>\n",
       "      <td>0.092707</td>\n",
       "      <td>0.000000</td>\n",
       "      <td>1.000000</td>\n",
       "      <td>0.000000</td>\n",
       "      <td>0.333333</td>\n",
       "      <td>0.269680</td>\n",
       "      <td>0.192469</td>\n",
       "      <td>0.160961</td>\n",
       "      <td>0.512287</td>\n",
       "      <td>...</td>\n",
       "      <td>0.0</td>\n",
       "      <td>0.0</td>\n",
       "      <td>0.0</td>\n",
       "      <td>0.0</td>\n",
       "      <td>0.0</td>\n",
       "      <td>1.0</td>\n",
       "      <td>0.0</td>\n",
       "      <td>0.0</td>\n",
       "      <td>1.0</td>\n",
       "      <td>0.0</td>\n",
       "    </tr>\n",
       "    <tr>\n",
       "      <th>2745</th>\n",
       "      <td>0.460317</td>\n",
       "      <td>0.161106</td>\n",
       "      <td>0.000000</td>\n",
       "      <td>1.000000</td>\n",
       "      <td>0.000000</td>\n",
       "      <td>0.083333</td>\n",
       "      <td>0.199532</td>\n",
       "      <td>0.744770</td>\n",
       "      <td>0.016323</td>\n",
       "      <td>0.226465</td>\n",
       "      <td>...</td>\n",
       "      <td>0.0</td>\n",
       "      <td>0.0</td>\n",
       "      <td>0.0</td>\n",
       "      <td>1.0</td>\n",
       "      <td>0.0</td>\n",
       "      <td>0.0</td>\n",
       "      <td>0.0</td>\n",
       "      <td>0.0</td>\n",
       "      <td>1.0</td>\n",
       "      <td>0.0</td>\n",
       "    </tr>\n",
       "    <tr>\n",
       "      <th>2746</th>\n",
       "      <td>0.460317</td>\n",
       "      <td>0.003098</td>\n",
       "      <td>0.653846</td>\n",
       "      <td>1.000000</td>\n",
       "      <td>0.000000</td>\n",
       "      <td>1.000000</td>\n",
       "      <td>0.484412</td>\n",
       "      <td>0.615063</td>\n",
       "      <td>0.981183</td>\n",
       "      <td>1.000000</td>\n",
       "      <td>...</td>\n",
       "      <td>0.0</td>\n",
       "      <td>0.0</td>\n",
       "      <td>0.0</td>\n",
       "      <td>0.0</td>\n",
       "      <td>1.0</td>\n",
       "      <td>0.0</td>\n",
       "      <td>0.0</td>\n",
       "      <td>0.0</td>\n",
       "      <td>1.0</td>\n",
       "      <td>0.0</td>\n",
       "    </tr>\n",
       "    <tr>\n",
       "      <th>2747</th>\n",
       "      <td>0.222222</td>\n",
       "      <td>0.015491</td>\n",
       "      <td>0.000000</td>\n",
       "      <td>1.000000</td>\n",
       "      <td>0.166667</td>\n",
       "      <td>0.687500</td>\n",
       "      <td>0.389322</td>\n",
       "      <td>0.368201</td>\n",
       "      <td>0.797778</td>\n",
       "      <td>0.877883</td>\n",
       "      <td>...</td>\n",
       "      <td>0.0</td>\n",
       "      <td>0.0</td>\n",
       "      <td>0.0</td>\n",
       "      <td>0.0</td>\n",
       "      <td>0.0</td>\n",
       "      <td>1.0</td>\n",
       "      <td>0.0</td>\n",
       "      <td>1.0</td>\n",
       "      <td>0.0</td>\n",
       "      <td>0.0</td>\n",
       "    </tr>\n",
       "    <tr>\n",
       "      <th>2748</th>\n",
       "      <td>0.507937</td>\n",
       "      <td>0.024309</td>\n",
       "      <td>0.038462</td>\n",
       "      <td>1.000000</td>\n",
       "      <td>0.000000</td>\n",
       "      <td>0.333333</td>\n",
       "      <td>0.269680</td>\n",
       "      <td>0.192469</td>\n",
       "      <td>0.141691</td>\n",
       "      <td>0.512287</td>\n",
       "      <td>...</td>\n",
       "      <td>0.0</td>\n",
       "      <td>0.0</td>\n",
       "      <td>1.0</td>\n",
       "      <td>0.0</td>\n",
       "      <td>0.0</td>\n",
       "      <td>0.0</td>\n",
       "      <td>0.0</td>\n",
       "      <td>0.0</td>\n",
       "      <td>1.0</td>\n",
       "      <td>0.0</td>\n",
       "    </tr>\n",
       "  </tbody>\n",
       "</table>\n",
       "<p>2749 rows × 62 columns</p>\n",
       "</div>"
      ],
      "text/plain": [
       "           age  duration  campaign     pdays  previous  emp.var.rate  \\\n",
       "0     0.476190  0.111296  0.000000  0.004004  0.333333      0.354167   \n",
       "1     0.507937  0.057912  0.038462  1.000000  0.000000      0.937500   \n",
       "2     0.238095  0.074595  0.000000  1.000000  0.000000      1.000000   \n",
       "3     0.492063  0.022164  0.076923  1.000000  0.166667      0.687500   \n",
       "4     0.301587  0.045996  0.038462  1.000000  0.000000      0.333333   \n",
       "...        ...       ...       ...       ...       ...           ...   \n",
       "2744  0.523810  0.092707  0.000000  1.000000  0.000000      0.333333   \n",
       "2745  0.460317  0.161106  0.000000  1.000000  0.000000      0.083333   \n",
       "2746  0.460317  0.003098  0.653846  1.000000  0.000000      1.000000   \n",
       "2747  0.222222  0.015491  0.000000  1.000000  0.166667      0.687500   \n",
       "2748  0.507937  0.024309  0.038462  1.000000  0.000000      0.333333   \n",
       "\n",
       "      cons.price.idx  cons.conf.idx  euribor3m  nr.employed  ...  month_oct  \\\n",
       "0           0.711613       0.523013   0.060304     0.105860  ...        0.0   \n",
       "1           0.698753       0.602510   0.958059     0.859735  ...        0.0   \n",
       "2           0.669135       0.338912   0.980050     1.000000  ...        0.0   \n",
       "3           0.389322       0.368201   0.767853     0.877883  ...        0.0   \n",
       "4           0.269680       0.192469   0.150759     0.512287  ...        0.0   \n",
       "...              ...            ...        ...          ...  ...        ...   \n",
       "2744        0.269680       0.192469   0.160961     0.512287  ...        0.0   \n",
       "2745        0.199532       0.744770   0.016323     0.226465  ...        0.0   \n",
       "2746        0.484412       0.615063   0.981183     1.000000  ...        0.0   \n",
       "2747        0.389322       0.368201   0.797778     0.877883  ...        0.0   \n",
       "2748        0.269680       0.192469   0.141691     0.512287  ...        0.0   \n",
       "\n",
       "      month_sep  day_of_week_fri  day_of_week_mon  day_of_week_thu  \\\n",
       "0           0.0              0.0              0.0              0.0   \n",
       "1           0.0              0.0              0.0              1.0   \n",
       "2           0.0              1.0              0.0              0.0   \n",
       "3           0.0              1.0              0.0              0.0   \n",
       "4           0.0              0.0              1.0              0.0   \n",
       "...         ...              ...              ...              ...   \n",
       "2744        0.0              0.0              0.0              0.0   \n",
       "2745        0.0              0.0              1.0              0.0   \n",
       "2746        0.0              0.0              0.0              1.0   \n",
       "2747        0.0              0.0              0.0              0.0   \n",
       "2748        0.0              1.0              0.0              0.0   \n",
       "\n",
       "      day_of_week_tue  day_of_week_wed  poutcome_failure  \\\n",
       "0                 0.0              1.0               0.0   \n",
       "1                 0.0              0.0               0.0   \n",
       "2                 0.0              0.0               0.0   \n",
       "3                 0.0              0.0               1.0   \n",
       "4                 0.0              0.0               0.0   \n",
       "...               ...              ...               ...   \n",
       "2744              1.0              0.0               0.0   \n",
       "2745              0.0              0.0               0.0   \n",
       "2746              0.0              0.0               0.0   \n",
       "2747              1.0              0.0               1.0   \n",
       "2748              0.0              0.0               0.0   \n",
       "\n",
       "      poutcome_nonexistent  poutcome_success  \n",
       "0                      0.0               1.0  \n",
       "1                      1.0               0.0  \n",
       "2                      1.0               0.0  \n",
       "3                      0.0               0.0  \n",
       "4                      1.0               0.0  \n",
       "...                    ...               ...  \n",
       "2744                   1.0               0.0  \n",
       "2745                   1.0               0.0  \n",
       "2746                   1.0               0.0  \n",
       "2747                   0.0               0.0  \n",
       "2748                   1.0               0.0  \n",
       "\n",
       "[2749 rows x 62 columns]"
      ]
     },
     "execution_count": 34,
     "metadata": {},
     "output_type": "execute_result"
    }
   ],
   "source": [
    "X_train_norm_df=pd.DataFrame(X_train_norm, columns=Xcol)\n",
    "X_test_norm_df=pd.DataFrame(X_test_norm, columns=Xcol)\n",
    "X_test_norm_df"
   ]
  },
  {
   "cell_type": "markdown",
   "metadata": {},
   "source": [
    "## Logistic Regression"
   ]
  },
  {
   "cell_type": "code",
   "execution_count": 119,
   "metadata": {
    "scrolled": true
   },
   "outputs": [
    {
     "name": "stderr",
     "output_type": "stream",
     "text": [
      "/Users/zohrehmovahedmanesh/opt/anaconda3/lib/python3.8/site-packages/sklearn/utils/validation.py:72: DataConversionWarning: A column-vector y was passed when a 1d array was expected. Please change the shape of y to (n_samples, ), for example using ravel().\n",
      "  return f(**kwargs)\n",
      "/Users/zohrehmovahedmanesh/opt/anaconda3/lib/python3.8/site-packages/sklearn/linear_model/_logistic.py:762: ConvergenceWarning: lbfgs failed to converge (status=1):\n",
      "STOP: TOTAL NO. of ITERATIONS REACHED LIMIT.\n",
      "\n",
      "Increase the number of iterations (max_iter) or scale the data as shown in:\n",
      "    https://scikit-learn.org/stable/modules/preprocessing.html\n",
      "Please also refer to the documentation for alternative solver options:\n",
      "    https://scikit-learn.org/stable/modules/linear_model.html#logistic-regression\n",
      "  n_iter_i = _check_optimize_result(\n"
     ]
    }
   ],
   "source": [
    "from sklearn.linear_model import LogisticRegression\n",
    "\n",
    "# Instantiate the classifier\n",
    "LR0 = LogisticRegression()\n",
    "\n",
    "# Fit the classifier\n",
    "LR0.fit(X_train_norm_df, y_train)\n",
    "coef=pd.DataFrame([Xcol.T, LR0.coef_[0]]).T"
   ]
  },
  {
   "cell_type": "code",
   "execution_count": 120,
   "metadata": {},
   "outputs": [],
   "source": [
    "coef.columns=['feature','coeficient']"
   ]
  },
  {
   "cell_type": "code",
   "execution_count": 121,
   "metadata": {},
   "outputs": [],
   "source": [
    "coef['absolute']=coef['coeficient'].abs()\n",
    "coef_rank=coef.sort_values(by=['absolute'],ascending=False)\n",
    "coef_rank = coef_rank[coef_rank.feature != 'duration']\n",
    "X_1_col=coef_rank[:20]['feature']"
   ]
  },
  {
   "cell_type": "code",
   "execution_count": 141,
   "metadata": {},
   "outputs": [
    {
     "data": {
      "text/plain": [
       "<AxesSubplot:xlabel='feature', ylabel='absolute'>"
      ]
     },
     "execution_count": 141,
     "metadata": {},
     "output_type": "execute_result"
    },
    {
     "data": {
      "image/png": "[encoded data removed]",
      "text/plain": [
       "<Figure size 1440x288 with 1 Axes>"
      ]
     },
     "metadata": {
      "needs_background": "light"
     },
     "output_type": "display_data"
    }
   ],
   "source": [
    "plt.figure(figsize=(20,4))\n",
    "sns.barplot( x='feature', y='absolute' , data=coef_rank[:15])"
   ]
  },
  {
   "cell_type": "code",
   "execution_count": 122,
   "metadata": {},
   "outputs": [
    {
     "data": {
      "text/plain": [
       "5         emp.var.rate\n",
       "6       cons.price.idx\n",
       "49           month_mar\n",
       "9          nr.employed\n",
       "3                pdays\n",
       "50           month_may\n",
       "2             campaign\n",
       "7        cons.conf.idx\n",
       "51           month_nov\n",
       "15         job_retired\n",
       "18         job_student\n",
       "52           month_oct\n",
       "59    poutcome_failure\n",
       "61    poutcome_success\n",
       "12    job_entrepreneur\n",
       "11     job_blue-collar\n",
       "48           month_jun\n",
       "4             previous\n",
       "34          default_no\n",
       "53           month_sep\n",
       "Name: feature, dtype: object"
      ]
     },
     "execution_count": 122,
     "metadata": {},
     "output_type": "execute_result"
    }
   ],
   "source": [
    "X_1_col"
   ]
  },
  {
   "cell_type": "code",
   "execution_count": 130,
   "metadata": {},
   "outputs": [
    {
     "name": "stderr",
     "output_type": "stream",
     "text": [
      "/Users/zohrehmovahedmanesh/opt/anaconda3/lib/python3.8/site-packages/sklearn/utils/validation.py:72: DataConversionWarning: A column-vector y was passed when a 1d array was expected. Please change the shape of y to (n_samples, ), for example using ravel().\n",
      "  return f(**kwargs)\n"
     ]
    },
    {
     "data": {
      "text/html": [
       "<div>\n",
       "<style scoped>\n",
       "    .dataframe tbody tr th:only-of-type {\n",
       "        vertical-align: middle;\n",
       "    }\n",
       "\n",
       "    .dataframe tbody tr th {\n",
       "        vertical-align: top;\n",
       "    }\n",
       "\n",
       "    .dataframe thead th {\n",
       "        text-align: right;\n",
       "    }\n",
       "</style>\n",
       "<table border=\"1\" class=\"dataframe\">\n",
       "  <thead>\n",
       "    <tr style=\"text-align: right;\">\n",
       "      <th></th>\n",
       "      <th>feature</th>\n",
       "      <th>coeficient</th>\n",
       "    </tr>\n",
       "  </thead>\n",
       "  <tbody>\n",
       "    <tr>\n",
       "      <th>5</th>\n",
       "      <td>emp.var.rate</td>\n",
       "      <td>-0.923757</td>\n",
       "    </tr>\n",
       "    <tr>\n",
       "      <th>6</th>\n",
       "      <td>cons.price.idx</td>\n",
       "      <td>-1.01216</td>\n",
       "    </tr>\n",
       "    <tr>\n",
       "      <th>9</th>\n",
       "      <td>nr.employed</td>\n",
       "      <td>0.445245</td>\n",
       "    </tr>\n",
       "    <tr>\n",
       "      <th>3</th>\n",
       "      <td>pdays</td>\n",
       "      <td>-1.39682</td>\n",
       "    </tr>\n",
       "    <tr>\n",
       "      <th>2</th>\n",
       "      <td>campaign</td>\n",
       "      <td>0.833287</td>\n",
       "    </tr>\n",
       "    <tr>\n",
       "      <th>7</th>\n",
       "      <td>cons.conf.idx</td>\n",
       "      <td>0.36326</td>\n",
       "    </tr>\n",
       "    <tr>\n",
       "      <th>15</th>\n",
       "      <td>job_retired</td>\n",
       "      <td>-0.0892206</td>\n",
       "    </tr>\n",
       "    <tr>\n",
       "      <th>18</th>\n",
       "      <td>job_student</td>\n",
       "      <td>0.254747</td>\n",
       "    </tr>\n",
       "    <tr>\n",
       "      <th>12</th>\n",
       "      <td>job_entrepreneur</td>\n",
       "      <td>-0.411193</td>\n",
       "    </tr>\n",
       "    <tr>\n",
       "      <th>11</th>\n",
       "      <td>job_blue-collar</td>\n",
       "      <td>0.0726007</td>\n",
       "    </tr>\n",
       "    <tr>\n",
       "      <th>4</th>\n",
       "      <td>previous</td>\n",
       "      <td>-1.31176</td>\n",
       "    </tr>\n",
       "  </tbody>\n",
       "</table>\n",
       "</div>"
      ],
      "text/plain": [
       "             feature coeficient\n",
       "5       emp.var.rate  -0.923757\n",
       "6     cons.price.idx   -1.01216\n",
       "9        nr.employed   0.445245\n",
       "3              pdays   -1.39682\n",
       "2           campaign   0.833287\n",
       "7      cons.conf.idx    0.36326\n",
       "15       job_retired -0.0892206\n",
       "18       job_student   0.254747\n",
       "12  job_entrepreneur  -0.411193\n",
       "11   job_blue-collar  0.0726007\n",
       "4           previous   -1.31176"
      ]
     },
     "execution_count": 130,
     "metadata": {},
     "output_type": "execute_result"
    }
   ],
   "source": [
    "LR1 = LogisticRegression()\n",
    "LR1.fit(X_train_norm_df[X_1_col], y_train)\n",
    "coef1=pd.DataFrame([X_1_col.T, LR1.coef_[0]]).T\n",
    "coef1.columns=['feature','coeficient']\n",
    "#coef1 = coef1[coef1.coeficient != None]\n",
    "coef1.dropna(inplace=True)"
   ]
  },
  {
   "cell_type": "code",
   "execution_count": 134,
   "metadata": {},
   "outputs": [],
   "source": [
    "coef1['absolute']=coef1['coeficient'].abs()\n",
    "coef_rank1=coef1.sort_values(by=['absolute'],ascending=False)\n",
    "coef_rank1\n",
    "X_2_col=coef_rank1['feature']"
   ]
  },
  {
   "cell_type": "code",
   "execution_count": 142,
   "metadata": {
    "scrolled": true
   },
   "outputs": [
    {
     "name": "stderr",
     "output_type": "stream",
     "text": [
      "/Users/zohrehmovahedmanesh/opt/anaconda3/lib/python3.8/site-packages/sklearn/utils/validation.py:72: DataConversionWarning: A column-vector y was passed when a 1d array was expected. Please change the shape of y to (n_samples, ), for example using ravel().\n",
      "  return f(**kwargs)\n"
     ]
    }
   ],
   "source": [
    "LR2 = LogisticRegression()\n",
    "LR2.fit(X_train_norm_df[X_2_col], y_train)\n",
    "coef2=pd.DataFrame([X_2_col.T, LR2.coef_[0]]).T\n",
    "coef2.columns=['feature','coeficient']\n",
    "#coef1 = coef1[coef1.coeficient != None]\n",
    "coef2.dropna(inplace=True)"
   ]
  },
  {
   "cell_type": "code",
   "execution_count": 143,
   "metadata": {},
   "outputs": [
    {
     "data": {
      "text/html": [
       "<div>\n",
       "<style scoped>\n",
       "    .dataframe tbody tr th:only-of-type {\n",
       "        vertical-align: middle;\n",
       "    }\n",
       "\n",
       "    .dataframe tbody tr th {\n",
       "        vertical-align: top;\n",
       "    }\n",
       "\n",
       "    .dataframe thead th {\n",
       "        text-align: right;\n",
       "    }\n",
       "</style>\n",
       "<table border=\"1\" class=\"dataframe\">\n",
       "  <thead>\n",
       "    <tr style=\"text-align: right;\">\n",
       "      <th></th>\n",
       "      <th>feature</th>\n",
       "      <th>coeficient</th>\n",
       "    </tr>\n",
       "  </thead>\n",
       "  <tbody>\n",
       "    <tr>\n",
       "      <th>3</th>\n",
       "      <td>pdays</td>\n",
       "      <td>-1.43173</td>\n",
       "    </tr>\n",
       "    <tr>\n",
       "      <th>4</th>\n",
       "      <td>previous</td>\n",
       "      <td>-0.85032</td>\n",
       "    </tr>\n",
       "    <tr>\n",
       "      <th>6</th>\n",
       "      <td>cons.price.idx</td>\n",
       "      <td>-0.357303</td>\n",
       "    </tr>\n",
       "    <tr>\n",
       "      <th>5</th>\n",
       "      <td>emp.var.rate</td>\n",
       "      <td>-1.6233</td>\n",
       "    </tr>\n",
       "    <tr>\n",
       "      <th>2</th>\n",
       "      <td>campaign</td>\n",
       "      <td>0.688357</td>\n",
       "    </tr>\n",
       "    <tr>\n",
       "      <th>9</th>\n",
       "      <td>nr.employed</td>\n",
       "      <td>0.566427</td>\n",
       "    </tr>\n",
       "    <tr>\n",
       "      <th>7</th>\n",
       "      <td>cons.conf.idx</td>\n",
       "      <td>0.414636</td>\n",
       "    </tr>\n",
       "  </tbody>\n",
       "</table>\n",
       "</div>"
      ],
      "text/plain": [
       "          feature coeficient\n",
       "3           pdays   -1.43173\n",
       "4        previous   -0.85032\n",
       "6  cons.price.idx  -0.357303\n",
       "5    emp.var.rate    -1.6233\n",
       "2        campaign   0.688357\n",
       "9     nr.employed   0.566427\n",
       "7   cons.conf.idx   0.414636"
      ]
     },
     "execution_count": 143,
     "metadata": {},
     "output_type": "execute_result"
    }
   ],
   "source": [
    "coef2"
   ]
  },
  {
   "cell_type": "code",
   "execution_count": null,
   "metadata": {},
   "outputs": [],
   "source": []
  }
 ],
 "metadata": {
  "kernelspec": {
   "display_name": "Python 3",
   "language": "python",
   "name": "python3"
  },
  "language_info": {
   "codemirror_mode": {
    "name": "ipython",
    "version": 3
   },
   "file_extension": ".py",
   "mimetype": "text/x-python",
   "name": "python",
   "nbconvert_exporter": "python",
   "pygments_lexer": "ipython3",
   "version": "3.8.5"
  }
 },
 "nbformat": 4,
 "nbformat_minor": 4
}
